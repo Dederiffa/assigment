{
  "nbformat": 4,
  "nbformat_minor": 0,
  "metadata": {
    "colab": {
      "provenance": [],
      "authorship_tag": "ABX9TyOmYxPqXIoWMEEC/C3xGvFU",
      "include_colab_link": true
    },
    "kernelspec": {
      "name": "python3",
      "display_name": "Python 3"
    },
    "language_info": {
      "name": "python"
    }
  },
  "cells": [
    {
      "cell_type": "markdown",
      "metadata": {
        "id": "view-in-github",
        "colab_type": "text"
      },
      "source": [
        "<a href=\"https://colab.research.google.com/github/Dederiffa/assigment/blob/main/sesi_4.ipynb\" target=\"_parent\"><img src=\"https://colab.research.google.com/assets/colab-badge.svg\" alt=\"Open In Colab\"/></a>"
      ]
    },
    {
      "cell_type": "code",
      "execution_count": 3,
      "metadata": {
        "colab": {
          "base_uri": "https://localhost:8080/"
        },
        "id": "ae95TNGfjPlB",
        "outputId": "cbabf92c-48bf-49b8-8f43-281cc33e3c47"
      },
      "outputs": [
        {
          "output_type": "stream",
          "name": "stdout",
          "text": [
            "Mike's remaining balance after purchase: 39000 rupiah\n"
          ]
        }
      ],
      "source": [
        "# Initial balance in Mike's wallet\n",
        "balance = 100000\n",
        "\n",
        "# Prices of items bought\n",
        "noodles_price = 10000\n",
        "meat_price = 50000\n",
        "garlic_price = 11000\n",
        "\n",
        "# Calculate total cost before discount\n",
        "total_cost = noodles_price + meat_price + garlic_price\n",
        "\n",
        "# Apply discount\n",
        "discount = 10000\n",
        "total_cost -= discount\n",
        "\n",
        "# Calculate new balance after purchase\n",
        "balance -= total_cost\n",
        "\n",
        "# Print the remaining balance\n",
        "print(\"Mike's remaining balance after purchase:\", balance, \"rupiah\")"
      ]
    },
    {
      "cell_type": "code",
      "source": [
        "# Define the variables\n",
        "x = 100\n",
        "y = 10\n",
        "z = 68\n",
        "\n",
        "# Problem 1: x & y & z\n",
        "result_1 = x & y & z\n",
        "\n",
        "# Problem 2: x ^ y\n",
        "result_2 = x ^ y\n",
        "\n",
        "# Convert results to binary form\n",
        "result_1_binary = format(result_1, '08b')\n",
        "result_2_binary = format(result_2, '03b')\n",
        "# Output the results\n",
        "print(\"1.) x & y & z = {} (binary: {})\".format(result_1, result_1_binary))\n",
        "print(\"2.) x ^ y = {} (binary: {})\".format(result_2, result_2_binary))"
      ],
      "metadata": {
        "colab": {
          "base_uri": "https://localhost:8080/"
        },
        "id": "0pti2_tPwqBC",
        "outputId": "1dec9a31-1e71-4e90-9f43-83c0a4d5564b"
      },
      "execution_count": 5,
      "outputs": [
        {
          "output_type": "stream",
          "name": "stdout",
          "text": [
            "1.) x & y & z = 0 (binary: 00000000)\n",
            "2.) x ^ y = 110 (binary: 1101110)\n"
          ]
        }
      ]
    }
  ]
}